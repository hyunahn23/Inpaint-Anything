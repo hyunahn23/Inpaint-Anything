{
 "cells": [
  {
   "cell_type": "code",
   "execution_count": null,
   "id": "3f81e95a",
   "metadata": {},
   "outputs": [
    {
     "ename": "",
     "evalue": "",
     "output_type": "error",
     "traceback": [
      "\u001b[1;31mThe Kernel crashed while executing code in the current cell or a previous cell. \n",
      "\u001b[1;31mPlease review the code in the cell(s) to identify a possible cause of the failure. \n",
      "\u001b[1;31mClick <a href='https://aka.ms/vscodeJupyterKernelCrash'>here</a> for more info. \n",
      "\u001b[1;31mView Jupyter <a href='command:jupyter.viewOutput'>log</a> for further details."
     ]
    }
   ],
   "source": [
    "import cv2\n",
    "\n",
    "def mouse_callback(event, x, y, flags, param):\n",
    "    if event == cv2.EVENT_LBUTTONDOWN:\n",
    "        print(f\"Clicked at: ({x}, {y})\")\n",
    "        cv2.circle(param, (x, y), 5, (0, 255, 0), -1)\n",
    "        cv2.imshow(\"Image\", param)\n",
    "\n",
    "# image_path = \"/home/jonghyun/pytorch-prj/inpaint/Inpaint-Anything/example/remove-anything/jini.jpg\"\n",
    "# image_path = \"/home/jonghyun/pytorch-prj/samurai/data/test.png\"\n",
    "\n",
    "image = cv2.imread(image_path)\n",
    "if image is None:\n",
    "    print(\"이미지를 불러올 수 없습니다.\")\n",
    "    exit()\n",
    "\n",
    "cv2.imshow(\"Image\", image)\n",
    "cv2.setMouseCallback(\"Image\", mouse_callback, image)\n",
    "\n",
    "print(\"이미지를 클릭하면 좌표가 출력됩니다. 아무 키나 누르면 종료됩니다.\")\n",
    "cv2.waitKey(0)\n",
    "cv2.destroyAllWindows()"
   ]
  },
  {
   "cell_type": "code",
   "execution_count": 4,
   "id": "0ba71146",
   "metadata": {},
   "outputs": [
    {
     "data": {
      "text/plain": [
       "True"
      ]
     },
     "execution_count": 4,
     "metadata": {},
     "output_type": "execute_result"
    }
   ],
   "source": [
    "import cv2\n",
    "\n",
    "img = cv2.imread(\"/home/jonghyun/pytorch-prj/inpaint/Inpaint-Anything/example/remove-anything/jini.jpg\")\n",
    "\n",
    "resized = cv2.resize(img, (0, 0), fx=0.25, fy=0.25)\n",
    "\n",
    "cv2.imwrite(\"/home/jonghyun/pytorch-prj/inpaint/Inpaint-Anything/example/remove-anything/resized_jini.jpg\", resized)"
   ]
  },
  {
   "cell_type": "code",
   "execution_count": null,
   "id": "44f08ba6",
   "metadata": {},
   "outputs": [],
   "source": []
  }
 ],
 "metadata": {
  "kernelspec": {
   "display_name": "inpaint",
   "language": "python",
   "name": "python3"
  },
  "language_info": {
   "codemirror_mode": {
    "name": "ipython",
    "version": 3
   },
   "file_extension": ".py",
   "mimetype": "text/x-python",
   "name": "python",
   "nbconvert_exporter": "python",
   "pygments_lexer": "ipython3",
   "version": "3.8.20"
  }
 },
 "nbformat": 4,
 "nbformat_minor": 5
}
